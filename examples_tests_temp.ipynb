{
 "cells": [
  {
   "cell_type": "code",
   "execution_count": 1,
   "id": "initial_id",
   "metadata": {
    "collapsed": true,
    "ExecuteTime": {
     "end_time": "2024-01-04T13:16:20.187157Z",
     "start_time": "2024-01-04T13:16:19.447637Z"
    }
   },
   "outputs": [
    {
     "name": "stdout",
     "output_type": "stream",
     "text": [
      "Agg(open=179.61, high=180.17, low=174.64, close=174.92, volume=94535602.0, vwap=177.2884, timestamp=1641358800000, transactions=848513, otc=None)\n"
     ]
    }
   ],
   "source": [
    "\"\"\"Basic example of polygon\n",
    "https://github.com/polygon-io/client-python\n",
    "https://github.com/polygon-io/client-python/blob/master/polygon/rest/aggs.py\n",
    "https://polygon.io/docs/stocks/get_v2_aggs_ticker__stocksticker__range__multiplier___timespan___from___to\n",
    "\"\"\"\n",
    "import json\n",
    "from polygon import RESTClient\n",
    "\n",
    "with open('.env', 'r') as file:\n",
    "    env = json.load(file)\n",
    "\n",
    "client = RESTClient(env[\"POLYGON_API_KEY\"])\n",
    "\n",
    "aggs = []\n",
    "for a in client.list_aggs(\n",
    "    \"AAPL\",\n",
    "    1,\n",
    "    \"day\",\n",
    "    \"2022-01-01\",\n",
    "    \"2023-02-03\",\n",
    "    limit=300,\n",
    "):\n",
    "    aggs.append(a)\n",
    "\n",
    "print(aggs[1])\n"
   ]
  },
  {
   "cell_type": "code",
   "outputs": [
    {
     "name": "stdout",
     "output_type": "stream",
     "text": [
      "274\n"
     ]
    }
   ],
   "source": [
    "print(len(aggs))"
   ],
   "metadata": {
    "collapsed": false,
    "ExecuteTime": {
     "end_time": "2024-01-03T22:11:19.725758Z",
     "start_time": "2024-01-03T22:11:19.722208Z"
    }
   },
   "id": "ede33ed66e1aa55e",
   "execution_count": 5
  },
  {
   "cell_type": "code",
   "outputs": [],
   "source": [],
   "metadata": {
    "collapsed": false
   },
   "id": "79c711edc09dc6ec"
  }
 ],
 "metadata": {
  "kernelspec": {
   "display_name": "Python 3",
   "language": "python",
   "name": "python3"
  },
  "language_info": {
   "codemirror_mode": {
    "name": "ipython",
    "version": 2
   },
   "file_extension": ".py",
   "mimetype": "text/x-python",
   "name": "python",
   "nbconvert_exporter": "python",
   "pygments_lexer": "ipython2",
   "version": "2.7.6"
  }
 },
 "nbformat": 4,
 "nbformat_minor": 5
}
