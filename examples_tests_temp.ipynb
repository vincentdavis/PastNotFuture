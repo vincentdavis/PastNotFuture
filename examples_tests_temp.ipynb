{
 "cells": [
  {
   "cell_type": "code",
   "execution_count": 4,
   "id": "initial_id",
   "metadata": {
    "collapsed": true,
    "ExecuteTime": {
     "end_time": "2024-01-03T22:10:47.067484Z",
     "start_time": "2024-01-03T22:10:46.419083Z"
    }
   },
   "outputs": [
    {
     "name": "stdout",
     "output_type": "stream",
     "text": [
      "[Agg(open=177.83, high=182.88, low=177.71, close=182.01, volume=104677470.0, vwap=181.4156, timestamp=1641186000000, transactions=772691, otc=None), Agg(open=182.63, high=182.94, low=179.12, close=179.7, volume=99110438.0, vwap=180.5574, timestamp=1641272400000, transactions=831890, otc=None), Agg(open=179.61, high=180.17, low=174.64, close=174.92, volume=94535602.0, vwap=177.2884, timestamp=1641358800000, transactions=848513, otc=None), Agg(open=172.7, high=175.3, low=171.64, close=172, volume=96882954.0, vwap=173.08, timestamp=1641445200000, transactions=960340, otc=None), Agg(open=172.89, high=174.14, low=171.03, close=172.17, volume=86709147.0, vwap=172.4383, timestamp=1641531600000, transactions=716881, otc=None), Agg(open=169.08, high=172.5, low=168.17, close=172.19, volume=106754551.0, vwap=170.2886, timestamp=1641790800000, transactions=956337, otc=None), Agg(open=172.32, high=175.18, low=170.82, close=175.08, volume=76138312.0, vwap=173.6337, timestamp=1641877200000, transactions=649652, otc=None), Agg(open=176.12, high=177.18, low=174.82, close=175.53, volume=74805173.0, vwap=175.8343, timestamp=1641963600000, transactions=642756, otc=None), Agg(open=175.78, high=176.62, low=171.79, close=172.19, volume=84405760.0, vwap=173.9711, timestamp=1642050000000, transactions=692343, otc=None), Agg(open=171.34, high=173.78, low=171.09, close=173.07, volume=80440778.0, vwap=172.3612, timestamp=1642136400000, transactions=672552, otc=None), Agg(open=171.51, high=172.54, low=169.405, close=169.8, volume=91063979.0, vwap=170.5404, timestamp=1642482000000, transactions=780899, otc=None), Agg(open=170, high=171.08, low=165.94, close=166.23, volume=94814990.0, vwap=168.2999, timestamp=1642568400000, transactions=824022, otc=None), Agg(open=166.98, high=169.68, low=164.18, close=164.51, volume=91420515.0, vwap=167.0706, timestamp=1642654800000, transactions=795585, otc=None), Agg(open=164.415, high=166.33, low=162.3, close=162.41, volume=122824858.0, vwap=163.8807, timestamp=1642741200000, transactions=1079476, otc=None), Agg(open=160.02, high=162.3, low=154.7, close=161.62, volume=162706686.0, vwap=158.6897, timestamp=1643000400000, transactions=1632710, otc=None), Agg(open=158.98, high=162.76, low=157.02, close=159.78, volume=115777137.0, vwap=159.4274, timestamp=1643086800000, transactions=1008306, otc=None), Agg(open=163.5, high=164.3894, low=157.82, close=159.69, volume=108275307.0, vwap=161.41, timestamp=1643173200000, transactions=1017706, otc=None), Agg(open=162.45, high=163.84, low=158.28, close=159.22, volume=121954638.0, vwap=161.2969, timestamp=1643259600000, transactions=1161003, otc=None), Agg(open=165.71, high=170.35, low=162.8, close=170.33, volume=179435660.0, vwap=167.3083, timestamp=1643346000000, transactions=1518049, otc=None), Agg(open=170.16, high=175, low=169.51, close=174.78, volume=115522090.0, vwap=173.1568, timestamp=1643605200000, transactions=933480, otc=None), Agg(open=174.01, high=174.84, low=172.31, close=174.61, volume=85595911.0, vwap=173.7061, timestamp=1643691600000, transactions=735250, otc=None), Agg(open=174.745, high=175.88, low=173.33, close=175.84, volume=84914158.0, vwap=174.9413, timestamp=1643778000000, transactions=676308, otc=None), Agg(open=174.48, high=176.2399, low=172.12, close=172.9, volume=89418074.0, vwap=174.3835, timestamp=1643864400000, transactions=724838, otc=None), Agg(open=171.68, high=174.1, low=170.68, close=172.39, volume=82446700.0, vwap=172.3165, timestamp=1643950800000, transactions=702966, otc=None), Agg(open=172.86, high=173.9458, low=170.95, close=171.66, volume=77251204.0, vwap=172.4426, timestamp=1644210000000, transactions=571410, otc=None), Agg(open=171.73, high=175.35, low=171.43, close=174.83, volume=74829217.0, vwap=173.8127, timestamp=1644296400000, transactions=634268, otc=None), Agg(open=176.05, high=176.65, low=174.9, close=176.28, volume=71204538.0, vwap=175.8287, timestamp=1644382800000, transactions=573996, otc=None), Agg(open=174.14, high=175.48, low=171.55, close=172.12, volume=90715899.0, vwap=173.5408, timestamp=1644469200000, transactions=761963, otc=None), Agg(open=172.33, high=173.08, low=168.04, close=168.64, volume=98490687.0, vwap=170.1997, timestamp=1644555600000, transactions=815714, otc=None), Agg(open=167.37, high=169.58, low=166.56, close=168.88, volume=86185530.0, vwap=168.3917, timestamp=1644814800000, transactions=757491, otc=None), Agg(open=170.97, high=172.95, low=170.25, close=172.79, volume=64286317.0, vwap=171.6596, timestamp=1644901200000, transactions=562851, otc=None), Agg(open=171.85, high=173.34, low=170.05, close=172.55, volume=61139697.0, vwap=171.6489, timestamp=1644987600000, transactions=543032, otc=None), Agg(open=171.03, high=171.91, low=168.47, close=168.88, volume=69589344.0, vwap=170.1812, timestamp=1645074000000, transactions=584118, otc=None), Agg(open=169.82, high=170.5413, low=166.19, close=167.3, volume=82772674.0, vwap=167.7969, timestamp=1645160400000, transactions=687677, otc=None), Agg(open=164.98, high=166.69, low=162.15, close=164.32, volume=91148358.0, vwap=164.5551, timestamp=1645506000000, transactions=897217, otc=None), Agg(open=165.54, high=166.15, low=159.75, close=160.07, volume=90009247.0, vwap=162.1577, timestamp=1645592400000, transactions=820313, otc=None), Agg(open=152.58, high=162.85, low=152, close=162.74, volume=141147540.0, vwap=158.0144, timestamp=1645678800000, transactions=1383829, otc=None), Agg(open=163.84, high=165.12, low=160.8738, close=164.85, volume=91974222.0, vwap=163.7895, timestamp=1645765200000, transactions=812155, otc=None), Agg(open=163.06, high=165.42, low=162.43, close=165.12, volume=95056629.0, vwap=164.268, timestamp=1646024400000, transactions=791485, otc=None), Agg(open=164.695, high=166.6, low=161.97, close=163.2, volume=83468865.0, vwap=164.16, timestamp=1646110800000, transactions=749653, otc=None), Agg(open=164.39, high=167.36, low=162.95, close=166.56, volume=79724750.0, vwap=165.8095, timestamp=1646197200000, transactions=668260, otc=None), Agg(open=168.47, high=168.91, low=165.55, close=166.23, volume=76678441.0, vwap=166.918, timestamp=1646283600000, transactions=651764, otc=None), Agg(open=164.49, high=165.55, low=162.1, close=163.17, volume=83819592.0, vwap=163.398, timestamp=1646370000000, transactions=743696, otc=None), Agg(open=163.36, high=165.02, low=159.04, close=159.3, volume=96418845.0, vwap=161.4026, timestamp=1646629200000, transactions=847057, otc=None), Agg(open=158.82, high=162.88, low=155.8, close=157.44, volume=131139480.0, vwap=158.7737, timestamp=1646715600000, transactions=1139149, otc=None), Agg(open=161.475, high=163.41, low=159.41, close=162.95, volume=91445405.0, vwap=161.9446, timestamp=1646802000000, transactions=733685, otc=None), Agg(open=160.2, high=160.39, low=155.98, close=158.52, volume=105342033.0, vwap=158.0284, timestamp=1646888400000, transactions=882861, otc=None), Agg(open=158.93, high=159.28, low=154.5, close=154.73, volume=96917302.0, vwap=156.1598, timestamp=1646974800000, transactions=880727, otc=None), Agg(open=151.45, high=154.12, low=150.1, close=150.62, volume=108712111.0, vwap=151.683, timestamp=1647230400000, transactions=969357, otc=None), Agg(open=150.9, high=155.57, low=150.38, close=155.09, volume=92964302.0, vwap=153.4741, timestamp=1647316800000, transactions=719955, otc=None), Agg(open=157.05, high=160, low=154.46, close=159.59, volume=102300157.0, vwap=157.6528, timestamp=1647403200000, transactions=833066, otc=None), Agg(open=158.61, high=161, low=157.63, close=160.62, volume=75615376.0, vwap=159.4208, timestamp=1647489600000, transactions=629003, otc=None), Agg(open=160.51, high=164.48, low=159.76, close=163.98, volume=122610172.0, vwap=162.5971, timestamp=1647576000000, transactions=713986, otc=None), Agg(open=163.51, high=166.35, low=163.015, close=165.38, volume=95811352.0, vwap=164.7355, timestamp=1647835200000, transactions=721125, otc=None), Agg(open=165.51, high=169.42, low=164.91, close=168.82, volume=81532007.0, vwap=168.2308, timestamp=1647921600000, transactions=638943, otc=None), Agg(open=167.99, high=172.64, low=167.65, close=170.21, volume=98062674.0, vwap=170.7915, timestamp=1648008000000, transactions=784481, otc=None), Agg(open=171.06, high=174.14, low=170.21, close=174.07, volume=90131418.0, vwap=172.2655, timestamp=1648094400000, transactions=688102, otc=None), Agg(open=173.88, high=175.28, low=172.75, close=174.72, volume=80529356.0, vwap=174.0232, timestamp=1648180800000, transactions=663600, otc=None), Agg(open=172.17, high=175.73, low=172, close=175.6, volume=90371916.0, vwap=174.3754, timestamp=1648440000000, transactions=716107, otc=None), Agg(open=176.69, high=179.01, low=176.34, close=178.96, volume=99459940.0, vwap=177.8604, timestamp=1648526400000, transactions=775943, otc=None), Agg(open=178.55, high=179.61, low=176.7, close=177.77, volume=91340654.0, vwap=178.1191, timestamp=1648612800000, transactions=695863, otc=None), Agg(open=177.84, high=178.03, low=174.4, close=174.61, volume=103049285.0, vwap=175.8765, timestamp=1648699200000, transactions=716272, otc=None), Agg(open=174.03, high=174.88, low=171.94, close=174.31, volume=78251328.0, vwap=173.4143, timestamp=1648785600000, transactions=661160, otc=None), Agg(open=174.57, high=178.49, low=174.44, close=178.44, volume=76545983.0, vwap=177.4855, timestamp=1649044800000, transactions=630374, otc=None), Agg(open=177.5, high=178.3, low=174.415, close=175.06, volume=73401786.0, vwap=175.9791, timestamp=1649131200000, transactions=621541, otc=None), Agg(open=172.36, high=173.63, low=170.13, close=171.83, volume=89058782.0, vwap=171.7887, timestamp=1649217600000, transactions=769485, otc=None), Agg(open=171.16, high=173.36, low=169.85, close=172.14, volume=77594650.0, vwap=171.8049, timestamp=1649304000000, transactions=628352, otc=None), Agg(open=171.78, high=171.78, low=169.2, close=170.09, volume=76534208.0, vwap=170.5154, timestamp=1649390400000, transactions=614848, otc=None), Agg(open=168.71, high=169.03, low=165.5, close=165.75, volume=72246706.0, vwap=166.692, timestamp=1649649600000, transactions=677210, otc=None), Agg(open=168.02, high=169.87, low=166.64, close=167.66, volume=79265181.0, vwap=168.0916, timestamp=1649736000000, transactions=678461, otc=None), Agg(open=167.39, high=171.04, low=166.77, close=170.4, volume=70618925.0, vwap=169.6805, timestamp=1649822400000, transactions=558072, otc=None), Agg(open=170.62, high=171.27, low=165.04, close=165.29, volume=75069376.0, vwap=167.2264, timestamp=1649908800000, transactions=596848, otc=None), Agg(open=163.92, high=166.5984, low=163.57, close=165.07, volume=69023941.0, vwap=164.9284, timestamp=1650254400000, transactions=576791, otc=None), Agg(open=165.02, high=167.82, low=163.91, close=167.4, volume=67723833.0, vwap=166.5491, timestamp=1650340800000, transactions=548306, otc=None), Agg(open=168.76, high=168.88, low=166.1, close=167.23, volume=67929814.0, vwap=167.3492, timestamp=1650427200000, transactions=595063, otc=None), Agg(open=168.91, high=171.53, low=165.91, close=166.42, volume=87227768.0, vwap=168.8014, timestamp=1650513600000, transactions=752017, otc=None), Agg(open=166.46, high=167.8699, low=161.5, close=161.79, volume=84875424.0, vwap=164.2289, timestamp=1650600000000, transactions=730001, otc=None), Agg(open=161.12, high=163.17, low=158.46, close=162.88, volume=96017376.0, vwap=160.7032, timestamp=1650859200000, transactions=925124, otc=None), Agg(open=162.25, high=162.34, low=156.72, close=156.8, volume=95595226.0, vwap=158.6074, timestamp=1650945600000, transactions=899965, otc=None), Agg(open=155.91, high=159.79, low=155.38, close=156.57, volume=88063191.0, vwap=157.4448, timestamp=1651032000000, transactions=777860, otc=None), Agg(open=159.25, high=164.515, low=158.93, close=163.64, volume=130149192.0, vwap=161.8622, timestamp=1651118400000, transactions=1126019, otc=None), Agg(open=161.84, high=166.2, low=157.25, close=157.65, volume=131747495.0, vwap=160.7133, timestamp=1651204800000, transactions=1032218, otc=None), Agg(open=156.71, high=158.23, low=153.27, close=157.96, volume=123050000.0, vwap=156.0357, timestamp=1651464000000, transactions=1154671, otc=None), Agg(open=158.15, high=160.71, low=156.32, close=159.48, volume=88966526.0, vwap=158.8014, timestamp=1651550400000, transactions=706626, otc=None), Agg(open=159.67, high=166.48, low=159.26, close=166.02, volume=108206503.0, vwap=162.4245, timestamp=1651636800000, transactions=873681, otc=None), Agg(open=163.85, high=164.08, low=154.95, close=156.77, volume=130419230.0, vwap=158.143, timestamp=1651723200000, transactions=1164746, otc=None), Agg(open=156.01, high=159.44, low=154.18, close=157.28, volume=115494647.0, vwap=157.3298, timestamp=1651809600000, transactions=1023008, otc=None), Agg(open=154.925, high=155.83, low=151.49, close=152.06, volume=131577921.0, vwap=153.1029, timestamp=1652068800000, transactions=1103707, otc=None), Agg(open=155.52, high=156.74, low=152.93, close=154.51, volume=115366736.0, vwap=154.8376, timestamp=1652155200000, transactions=988257, otc=None), Agg(open=153.5, high=155.45, low=145.81, close=146.5, volume=142547625.0, vwap=149.4468, timestamp=1652241600000, transactions=1310796, otc=None), Agg(open=142.77, high=146.2, low=138.8, close=142.56, volume=182408091.0, vwap=142.066, timestamp=1652328000000, transactions=1678454, otc=None), Agg(open=144.59, high=148.105, low=143.11, close=147.11, volume=113990852.0, vwap=146.3255, timestamp=1652414400000, transactions=920506, otc=None), Agg(open=145.55, high=147.5199, low=144.18, close=145.54, volume=86643781.0, vwap=145.7814, timestamp=1652673600000, transactions=699719, otc=None), Agg(open=148.86, high=149.77, low=146.68, close=149.24, volume=78138254.0, vwap=148.443, timestamp=1652760000000, transactions=609263, otc=None), Agg(open=146.85, high=147.3601, low=139.9, close=140.82, volume=109742890.0, vwap=142.6901, timestamp=1652846400000, transactions=982288, otc=None), Agg(open=139.88, high=141.66, low=136.6, close=137.35, volume=135863540.0, vwap=138.66, timestamp=1652932800000, transactions=1219746, otc=None), Agg(open=139.09, high=140.7, low=132.61, close=137.59, volume=137392625.0, vwap=136.397, timestamp=1653019200000, transactions=1133362, otc=None), Agg(open=137.79, high=143.26, low=137.65, close=143.11, volume=117726265.0, vwap=141.4344, timestamp=1653278400000, transactions=851032, otc=None), Agg(open=140.805, high=141.97, low=137.33, close=140.36, volume=104132746.0, vwap=139.4136, timestamp=1653364800000, transactions=812515, otc=None), Agg(open=138.43, high=141.785, low=138.34, close=140.52, volume=92482696.0, vwap=140.0769, timestamp=1653451200000, transactions=688316, otc=None)]\n"
     ]
    }
   ],
   "source": [
    "import json\n",
    "from polygon import RESTClient\n",
    "\n",
    "with open('.env', 'r') as file:\n",
    "    env = json.load(file)\n",
    "\n",
    "client = RESTClient(env[\"POLYGON_API_KEY\"])\n",
    "\n",
    "aggs = []\n",
    "for a in client.list_aggs(\n",
    "    \"AAPL\",\n",
    "    1,\n",
    "    \"day\",\n",
    "    \"2022-01-01\",\n",
    "    \"2023-02-03\",\n",
    "    limit=50000,\n",
    "):\n",
    "    aggs.append(a)\n",
    "\n",
    "print(aggs[:100])\n"
   ]
  },
  {
   "cell_type": "code",
   "outputs": [
    {
     "name": "stdout",
     "output_type": "stream",
     "text": [
      "274\n"
     ]
    }
   ],
   "source": [
    "print(len(aggs))"
   ],
   "metadata": {
    "collapsed": false,
    "ExecuteTime": {
     "end_time": "2024-01-03T22:11:19.725758Z",
     "start_time": "2024-01-03T22:11:19.722208Z"
    }
   },
   "id": "ede33ed66e1aa55e",
   "execution_count": 5
  },
  {
   "cell_type": "code",
   "outputs": [],
   "source": [],
   "metadata": {
    "collapsed": false
   },
   "id": "79c711edc09dc6ec"
  }
 ],
 "metadata": {
  "kernelspec": {
   "display_name": "Python 3",
   "language": "python",
   "name": "python3"
  },
  "language_info": {
   "codemirror_mode": {
    "name": "ipython",
    "version": 2
   },
   "file_extension": ".py",
   "mimetype": "text/x-python",
   "name": "python",
   "nbconvert_exporter": "python",
   "pygments_lexer": "ipython2",
   "version": "2.7.6"
  }
 },
 "nbformat": 4,
 "nbformat_minor": 5
}
